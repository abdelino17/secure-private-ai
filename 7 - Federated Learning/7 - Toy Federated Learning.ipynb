{
 "cells": [
  {
   "cell_type": "code",
   "execution_count": 2,
   "metadata": {},
   "outputs": [],
   "source": [
    "import torch as th\n",
    "import syft as sy"
   ]
  },
  {
   "cell_type": "code",
   "execution_count": 6,
   "metadata": {},
   "outputs": [],
   "source": [
    "from torch import nn, optim"
   ]
  },
  {
   "cell_type": "code",
   "execution_count": 3,
   "metadata": {},
   "outputs": [],
   "source": [
    "hook = sy.TorchHook(th)"
   ]
  },
  {
   "cell_type": "code",
   "execution_count": 4,
   "metadata": {},
   "outputs": [],
   "source": [
    "bob = sy.VirtualWorker(hook, id=\"bob\")\n",
    "alice = sy.VirtualWorker(hook, id=\"alice\")"
   ]
  },
  {
   "cell_type": "code",
   "execution_count": 11,
   "metadata": {},
   "outputs": [],
   "source": [
    "data = th.tensor([[1., 1], [0, 1,], [1, 0], [0, 0]], requires_grad=True)\n",
    "target = th.tensor([[1.], [1], [0], [0]], requires_grad=True)"
   ]
  },
  {
   "cell_type": "code",
   "execution_count": 7,
   "metadata": {},
   "outputs": [],
   "source": [
    "model = nn.Linear(2, 1)"
   ]
  },
  {
   "cell_type": "code",
   "execution_count": 8,
   "metadata": {},
   "outputs": [],
   "source": [
    "opt = optim.SGD(params=model.parameters(), lr=0.1)"
   ]
  },
  {
   "cell_type": "code",
   "execution_count": 15,
   "metadata": {},
   "outputs": [],
   "source": [
    "def train(iterations=20):\n",
    "    \n",
    "    for iter in range(20):\n",
    "    \n",
    "        opt.zero_grad()\n",
    "\n",
    "        pred = model(data)\n",
    "\n",
    "        loss = ((pred - target) ** 2).sum()\n",
    "\n",
    "        loss.backward()\n",
    "        opt.step()\n",
    "\n",
    "        print(loss.data)\n",
    "    "
   ]
  },
  {
   "cell_type": "code",
   "execution_count": 16,
   "metadata": {},
   "outputs": [
    {
     "name": "stdout",
     "output_type": "stream",
     "text": [
      "tensor(8.5096e-05)\n",
      "tensor(5.4539e-05)\n",
      "tensor(3.4964e-05)\n",
      "tensor(2.2422e-05)\n",
      "tensor(1.4385e-05)\n",
      "tensor(9.2325e-06)\n",
      "tensor(5.9291e-06)\n",
      "tensor(3.8101e-06)\n",
      "tensor(2.4503e-06)\n",
      "tensor(1.5772e-06)\n",
      "tensor(1.0164e-06)\n",
      "tensor(6.5572e-07)\n",
      "tensor(4.2367e-07)\n",
      "tensor(2.7422e-07)\n",
      "tensor(1.7786e-07)\n",
      "tensor(1.1563e-07)\n",
      "tensor(7.5381e-08)\n",
      "tensor(4.9300e-08)\n",
      "tensor(3.2344e-08)\n",
      "tensor(2.1317e-08)\n"
     ]
    }
   ],
   "source": [
    "train()"
   ]
  },
  {
   "cell_type": "code",
   "execution_count": 17,
   "metadata": {},
   "outputs": [],
   "source": [
    "data_bob = data[0:2].send(bob)\n",
    "target_bob = target[0:2].send(bob)"
   ]
  },
  {
   "cell_type": "code",
   "execution_count": 18,
   "metadata": {},
   "outputs": [],
   "source": [
    "data_alice = data[0:2].send(alice)\n",
    "target_alice = target[0:2].send(alice)"
   ]
  },
  {
   "cell_type": "code",
   "execution_count": 19,
   "metadata": {},
   "outputs": [],
   "source": [
    "datasets = [(data_bob, target_bob), (data_alice, target_alice)]"
   ]
  },
  {
   "cell_type": "code",
   "execution_count": null,
   "metadata": {},
   "outputs": [],
   "source": []
  },
  {
   "cell_type": "code",
   "execution_count": 40,
   "metadata": {},
   "outputs": [
    {
     "name": "stdout",
     "output_type": "stream",
     "text": [
      "tensor(3.8863, requires_grad=True)\n",
      "tensor(0.3644, requires_grad=True)\n",
      "tensor(0.2812, requires_grad=True)\n",
      "tensor(0.2339, requires_grad=True)\n",
      "tensor(0.1947, requires_grad=True)\n",
      "tensor(0.1620, requires_grad=True)\n",
      "tensor(0.1349, requires_grad=True)\n",
      "tensor(0.1122, requires_grad=True)\n",
      "tensor(0.0934, requires_grad=True)\n",
      "tensor(0.0778, requires_grad=True)\n",
      "tensor(0.0647, requires_grad=True)\n",
      "tensor(0.0539, requires_grad=True)\n",
      "tensor(0.0448, requires_grad=True)\n",
      "tensor(0.0373, requires_grad=True)\n",
      "tensor(0.0311, requires_grad=True)\n",
      "tensor(0.0259, requires_grad=True)\n",
      "tensor(0.0215, requires_grad=True)\n",
      "tensor(0.0179, requires_grad=True)\n",
      "tensor(0.0149, requires_grad=True)\n",
      "tensor(0.0124, requires_grad=True)\n",
      "tensor(0.0103, requires_grad=True)\n",
      "tensor(0.0086, requires_grad=True)\n",
      "tensor(0.0072, requires_grad=True)\n",
      "tensor(0.0060, requires_grad=True)\n",
      "tensor(0.0050, requires_grad=True)\n",
      "tensor(0.0041, requires_grad=True)\n",
      "tensor(0.0034, requires_grad=True)\n",
      "tensor(0.0029, requires_grad=True)\n",
      "tensor(0.0024, requires_grad=True)\n",
      "tensor(0.0020, requires_grad=True)\n",
      "tensor(0.0016, requires_grad=True)\n",
      "tensor(0.0014, requires_grad=True)\n",
      "tensor(0.0011, requires_grad=True)\n",
      "tensor(0.0009, requires_grad=True)\n",
      "tensor(0.0008, requires_grad=True)\n",
      "tensor(0.0007, requires_grad=True)\n",
      "tensor(0.0005, requires_grad=True)\n",
      "tensor(0.0005, requires_grad=True)\n",
      "tensor(0.0004, requires_grad=True)\n",
      "tensor(0.0003, requires_grad=True)\n"
     ]
    }
   ],
   "source": [
    "def train(iterations=20):\n",
    "    \n",
    "    model = nn.Linear(2, 1)\n",
    "    opt = optim.SGD(params=model.parameters(), lr=0.1)\n",
    "\n",
    "    for iter in range(iterations):\n",
    "        \n",
    "        for _data, _target in datasets:\n",
    "            \n",
    "            model = model.send(_data.location)\n",
    "\n",
    "            opt.zero_grad()\n",
    "            pred = model(_data)\n",
    "            loss = ((pred - _target) ** 2).sum()\n",
    "            loss.backward()\n",
    "            opt.step()\n",
    "\n",
    "            model = model.get()\n",
    "\n",
    "            print(loss.get())\n",
    "    \n",
    "train()"
   ]
  },
  {
   "cell_type": "code",
   "execution_count": null,
   "metadata": {},
   "outputs": [],
   "source": []
  }
 ],
 "metadata": {
  "kernelspec": {
   "display_name": "Python 3",
   "language": "python",
   "name": "python3"
  },
  "language_info": {
   "codemirror_mode": {
    "name": "ipython",
    "version": 3
   },
   "file_extension": ".py",
   "mimetype": "text/x-python",
   "name": "python",
   "nbconvert_exporter": "python",
   "pygments_lexer": "ipython3",
   "version": "3.7.3"
  }
 },
 "nbformat": 4,
 "nbformat_minor": 4
}
