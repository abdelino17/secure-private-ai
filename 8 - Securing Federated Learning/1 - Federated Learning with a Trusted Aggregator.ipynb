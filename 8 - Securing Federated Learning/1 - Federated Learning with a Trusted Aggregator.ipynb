{
 "cells": [
  {
   "cell_type": "code",
   "execution_count": 1,
   "metadata": {},
   "outputs": [
    {
     "name": "stderr",
     "output_type": "stream",
     "text": [
      "WARNING: Logging before flag parsing goes to stderr.\n",
      "W0710 18:55:05.340134  4052 secure_random.py:22] Falling back to insecure randomness since the required custom op could not be found for the installed version of TensorFlow (1.14.0). Fix this by compiling custom ops.\n",
      "W0710 18:55:05.399016  4052 deprecation_wrapper.py:119] From e:\\anaconda3\\envs\\pysyft\\lib\\site-packages\\tf_encrypted\\session.py:28: The name tf.Session is deprecated. Please use tf.compat.v1.Session instead.\n",
      "\n"
     ]
    }
   ],
   "source": [
    "import syft as sy\n",
    "import torch as th\n",
    "hook = sy.TorchHook(th)\n",
    "from torch import nn, optim"
   ]
  },
  {
   "cell_type": "code",
   "execution_count": 2,
   "metadata": {},
   "outputs": [],
   "source": [
    "bob = sy.VirtualWorker(hook, id=\"bob\")\n",
    "alice = sy.VirtualWorker(hook, id=\"alice\")\n",
    "secure_worker = sy.VirtualWorker(hook, id=\"secure_worker\")"
   ]
  },
  {
   "cell_type": "code",
   "execution_count": 3,
   "metadata": {},
   "outputs": [],
   "source": [
    "data = th.tensor([[0, 0], [0, 1,], [1, 0], [1, 1.]], requires_grad=True)\n",
    "target = th.tensor([[0], [0], [1], [1.]], requires_grad=True)"
   ]
  },
  {
   "cell_type": "code",
   "execution_count": 4,
   "metadata": {},
   "outputs": [],
   "source": [
    "bobs_data = data[0:2].send(bob)\n",
    "bobs_target = target[0:2].send(bob)"
   ]
  },
  {
   "cell_type": "code",
   "execution_count": 5,
   "metadata": {},
   "outputs": [],
   "source": [
    "alices_data = data[2:].send(alice)\n",
    "alices_target = target[2:].send(alice)"
   ]
  },
  {
   "cell_type": "code",
   "execution_count": 6,
   "metadata": {},
   "outputs": [],
   "source": [
    "model = nn.Linear(2, 1)"
   ]
  },
  {
   "cell_type": "code",
   "execution_count": 9,
   "metadata": {},
   "outputs": [
    {
     "name": "stdout",
     "output_type": "stream",
     "text": [
      "Bob:  tensor(0.0001) Alice:  tensor(2.0943e-05)\n",
      "Bob:  tensor(9.1351e-05) Alice:  tensor(1.5589e-05)\n",
      "Bob:  tensor(6.8902e-05) Alice:  tensor(1.1665e-05)\n",
      "Bob:  tensor(5.1909e-05) Alice:  tensor(8.7527e-06)\n",
      "Bob:  tensor(3.9083e-05) Alice:  tensor(6.5765e-06)\n",
      "Bob:  tensor(2.9418e-05) Alice:  tensor(4.9444e-06)\n",
      "Bob:  tensor(2.2139e-05) Alice:  tensor(3.7191e-06)\n",
      "Bob:  tensor(1.6660e-05) Alice:  tensor(2.7978e-06)\n",
      "Bob:  tensor(1.2536e-05) Alice:  tensor(2.1050e-06)\n",
      "Bob:  tensor(9.4330e-06) Alice:  tensor(1.5838e-06)\n"
     ]
    }
   ],
   "source": [
    "for iter_round in range(10):\n",
    "    bob_model = model.copy().send(bob)\n",
    "    alice_model = model.copy().send(alice)\n",
    "\n",
    "    bob_opt = optim.SGD(params=bob_model.parameters(), lr=0.1)\n",
    "    alice_opt = optim.SGD(params=alice_model.parameters(), lr=0.1)\n",
    "\n",
    "    for i in range(10):\n",
    "        bob_opt.zero_grad()\n",
    "        bob_pred = bob_model(bobs_data)\n",
    "        bob_loss = ((bob_pred - bobs_target)**2).sum()\n",
    "        bob_loss.backward()\n",
    "\n",
    "        bob_opt.step()\n",
    "        bob_loss = bob_loss.get().data\n",
    "\n",
    "        alice_opt.zero_grad()\n",
    "        alice_pred = alice_model(alices_data)\n",
    "        alice_loss = ((alice_pred - alices_target)**2).sum()\n",
    "        alice_loss.backward()\n",
    "\n",
    "        alice_opt.step()\n",
    "        alice_loss = alice_loss.get().data\n",
    "\n",
    "    alice_model.move(secure_worker)\n",
    "    bob_model.move(secure_worker)\n",
    "\n",
    "    with th.no_grad():\n",
    "        # this happen in the secure worker\n",
    "        avg_weight = (alice_model.weight.data + bob_model.weight.data) / 2\n",
    "        avg_bias = (alice_model.bias.data + bob_model.bias.data) / 2\n",
    "        # we pull the resulting avg to our local machine\n",
    "        avg_weight = avg_weight.get()\n",
    "        avg_bias = avg_bias.get()\n",
    "        # update model weight based on above\n",
    "        model.weight.set_(avg_weight)\n",
    "        model.bias.set_(avg_bias)\n",
    "    \n",
    "    # clear out our 3rd party\n",
    "    secure_worker.clear_objects()\n",
    "        \n",
    "    print(\"Bob: \", str(bob_loss), \"Alice: \", str(alice_loss))"
   ]
  },
  {
   "cell_type": "code",
   "execution_count": null,
   "metadata": {},
   "outputs": [],
   "source": []
  }
 ],
 "metadata": {
  "kernelspec": {
   "display_name": "Python 3",
   "language": "python",
   "name": "python3"
  },
  "language_info": {
   "codemirror_mode": {
    "name": "ipython",
    "version": 3
   },
   "file_extension": ".py",
   "mimetype": "text/x-python",
   "name": "python",
   "nbconvert_exporter": "python",
   "pygments_lexer": "ipython3",
   "version": "3.7.3"
  }
 },
 "nbformat": 4,
 "nbformat_minor": 4
}
