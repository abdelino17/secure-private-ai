{
 "cells": [
  {
   "cell_type": "code",
   "execution_count": 1,
   "metadata": {},
   "outputs": [],
   "source": [
    "import string\n",
    "import torch as th"
   ]
  },
  {
   "cell_type": "code",
   "execution_count": 44,
   "metadata": {},
   "outputs": [
    {
     "name": "stderr",
     "output_type": "stream",
     "text": [
      "WARNING: Logging before flag parsing goes to stderr.\n",
      "W0711 22:08:51.714949 21564 secure_random.py:22] Falling back to insecure randomness since the required custom op could not be found for the installed version of TensorFlow (1.14.0). Fix this by compiling custom ops.\n",
      "W0711 22:08:51.749859 21564 deprecation_wrapper.py:119] From e:\\anaconda3\\envs\\pysyft\\lib\\site-packages\\tf_encrypted\\session.py:28: The name tf.Session is deprecated. Please use tf.compat.v1.Session instead.\n",
      "\n"
     ]
    }
   ],
   "source": [
    "import syft as sy\n",
    "import torch as th\n",
    "hook = sy.TorchHook(th)\n",
    "\n",
    "from torch import nn, optim"
   ]
  },
  {
   "cell_type": "code",
   "execution_count": 45,
   "metadata": {},
   "outputs": [],
   "source": [
    "bob = sy.VirtualWorker(hook, id=\"bob\").add_worker(sy.local_worker)\n",
    "alice = sy.VirtualWorker(hook, id=\"alice\").add_worker(sy.local_worker)\n",
    "secure_worker = sy.VirtualWorker(hook, id=\"secure_worker\").add_worker(sy.local_worker)"
   ]
  },
  {
   "cell_type": "code",
   "execution_count": 2,
   "metadata": {},
   "outputs": [],
   "source": [
    "char2index = {}\n",
    "index2char = {}"
   ]
  },
  {
   "cell_type": "code",
   "execution_count": 3,
   "metadata": {},
   "outputs": [],
   "source": [
    "for i, char in enumerate(' ' + string.ascii_lowercase + '0123456789' + string.punctuation):\n",
    "    char2index[char] = i\n",
    "    index2char[i] = char"
   ]
  },
  {
   "cell_type": "code",
   "execution_count": 55,
   "metadata": {},
   "outputs": [],
   "source": [
    "def string2values(str_input, max_len=8):\n",
    "    \n",
    "    str_input = str_input[:max_len].lower()\n",
    "\n",
    "    if(len(str_input) < max_len):\n",
    "        str_input = str_input + \".\" * (max_len - len(str_input))\n",
    "    \n",
    "    values = list()\n",
    "    for char in str_input:\n",
    "        values.append(char2index[char])\n",
    "    \n",
    "    return th.tensor(values).long()\n",
    "\n",
    "def values2string(input_values):\n",
    "    s = \"\"\n",
    "    for value in input_values:\n",
    "        s += index2char[int(value)]\n",
    "    return s\n",
    "\n",
    "def one_hot(index, length):\n",
    "    vect = th.zeros(length).long()\n",
    "    vect[index] = 1\n",
    "    return vect\n",
    "\n",
    "def string2one_hot_matrix(str_input, max_len=8):\n",
    "    \n",
    "    str_input = str_input[:max_len].lower()\n",
    "    \n",
    "    if(len(str_input) < max_len):\n",
    "        str_input = str_input + \".\" * (max_len - len(str_input))\n",
    "        \n",
    "    char_vectors = list()\n",
    "    \n",
    "    for char in str_input:\n",
    "        char_v = one_hot(char2index[char], len(index2char)).unsqueeze(0)\n",
    "        char_vectors.append(char_v)\n",
    "    \n",
    "    return th.cat(char_vectors, dim=0)\n",
    "\n",
    "def strings_equal(str_a, str_b):\n",
    "    \n",
    "    vect = (str_a * str_b).sum(1)\n",
    "    \n",
    "    x = vect[0]\n",
    "\n",
    "    for i in range(vect.shape[0] - 1):\n",
    "        x = x * vect[i + 1]\n",
    "\n",
    "    return x"
   ]
  },
  {
   "cell_type": "code",
   "execution_count": 56,
   "metadata": {},
   "outputs": [],
   "source": [
    "class EncryptedDB():\n",
    "    \n",
    "    def __init__(self, *owners, max_key_len=8, max_val_len=8):\n",
    "        \n",
    "        self.max_key_len = 8\n",
    "        self.max_val_len = 8\n",
    "        \n",
    "        self.keys = list()\n",
    "        self.values = list()\n",
    "        self.owners = owners\n",
    "        \n",
    "    def add_entry(self, key, value):\n",
    "        key = string2one_hot_matrix(key)\n",
    "        key = key.share(*self.owners)\n",
    "        self.keys.append(key)\n",
    "        \n",
    "        value = string2values(value)\n",
    "        value = value.share(*self.owners)\n",
    "        self.values.append(value)\n",
    "        \n",
    "    def query(self, query_str):\n",
    "    \n",
    "        query_matrix = string2one_hot_matrix(query_str)\n",
    "        query_matrix = query_matrix.share(*self.owners)\n",
    "        \n",
    "        key_matches = list()\n",
    "        \n",
    "        for key in self.keys:\n",
    "            key_match = strings_equal(key, query_matrix)\n",
    "            key_matches.append(key_match)\n",
    "\n",
    "        result = self.values[0] * key_matches[0]\n",
    "\n",
    "        for i in range(len(self.values) - 1):\n",
    "\n",
    "            result += self.values[i+1] * key_matches[i+1]\n",
    "\n",
    "        result = result.get()\n",
    "        \n",
    "        return values2string(result).replace(\".\", \"\")"
   ]
  },
  {
   "cell_type": "code",
   "execution_count": 57,
   "metadata": {},
   "outputs": [],
   "source": [
    "db = EncryptedDB(bob, alice, secure_worker, max_val_len=256)"
   ]
  },
  {
   "cell_type": "code",
   "execution_count": 58,
   "metadata": {},
   "outputs": [],
   "source": [
    "db.add_entry(\"key1\", \"value1\")\n",
    "db.add_entry(\"key2\", \"value2\")\n",
    "db.add_entry(\"key3\", \"value3\")\n",
    "db.add_entry(\"key4\", \"value4\")"
   ]
  },
  {
   "cell_type": "code",
   "execution_count": 62,
   "metadata": {},
   "outputs": [
    {
     "data": {
      "text/plain": [
       "'value2'"
      ]
     },
     "execution_count": 62,
     "metadata": {},
     "output_type": "execute_result"
    }
   ],
   "source": [
    "db.query(\"key2\")"
   ]
  },
  {
   "cell_type": "code",
   "execution_count": 60,
   "metadata": {},
   "outputs": [
    {
     "data": {
      "text/plain": [
       "[(Wrapper)>[AdditiveSharingTensor]\n",
       " \t-> (Wrapper)>[PointerTensor | me:33724769132 -> bob:51508208133]\n",
       " \t-> (Wrapper)>[PointerTensor | me:49456846578 -> alice:94653780467]\n",
       " \t-> (Wrapper)>[PointerTensor | me:75410666437 -> secure_worker:74827746001]\n",
       " \t*crypto provider: me*, (Wrapper)>[AdditiveSharingTensor]\n",
       " \t-> (Wrapper)>[PointerTensor | me:79596864977 -> bob:30449414366]\n",
       " \t-> (Wrapper)>[PointerTensor | me:48761183427 -> alice:13644266682]\n",
       " \t-> (Wrapper)>[PointerTensor | me:6589754021 -> secure_worker:40661810868]\n",
       " \t*crypto provider: me*, (Wrapper)>[AdditiveSharingTensor]\n",
       " \t-> (Wrapper)>[PointerTensor | me:52259506507 -> bob:87446705114]\n",
       " \t-> (Wrapper)>[PointerTensor | me:90713215157 -> alice:6398205814]\n",
       " \t-> (Wrapper)>[PointerTensor | me:38927723653 -> secure_worker:32849796054]\n",
       " \t*crypto provider: me*, (Wrapper)>[AdditiveSharingTensor]\n",
       " \t-> (Wrapper)>[PointerTensor | me:74695980674 -> bob:81743105141]\n",
       " \t-> (Wrapper)>[PointerTensor | me:75855056964 -> alice:62396218578]\n",
       " \t-> (Wrapper)>[PointerTensor | me:63475044353 -> secure_worker:49430016558]\n",
       " \t*crypto provider: me*]"
      ]
     },
     "execution_count": 60,
     "metadata": {},
     "output_type": "execute_result"
    }
   ],
   "source": [
    "db.values"
   ]
  },
  {
   "cell_type": "code",
   "execution_count": null,
   "metadata": {},
   "outputs": [],
   "source": []
  }
 ],
 "metadata": {
  "kernelspec": {
   "display_name": "Python 3",
   "language": "python",
   "name": "python3"
  },
  "language_info": {
   "codemirror_mode": {
    "name": "ipython",
    "version": 3
   },
   "file_extension": ".py",
   "mimetype": "text/x-python",
   "name": "python",
   "nbconvert_exporter": "python",
   "pygments_lexer": "ipython3",
   "version": "3.7.3"
  }
 },
 "nbformat": 4,
 "nbformat_minor": 4
}
